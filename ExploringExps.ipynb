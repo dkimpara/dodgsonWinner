{
 "cells": [
  {
   "cell_type": "code",
   "execution_count": 11,
   "metadata": {},
   "outputs": [],
   "source": [
    "%matplotlib widget\n",
    "\n",
    "from mpl_toolkits.mplot3d import Axes3D  # noqa: F401 unused import\n",
    "\n",
    "import matplotlib.pyplot as plt\n",
    "from matplotlib import cm\n",
    "\n",
    "import numpy as np\n",
    "from alg import *\n",
    "from experimentCode import *\n",
    "from statsmodels.stats.proportion import proportion_confint\n",
    "\n",
    "import pandas as pd\n",
    "import pickle as pk"
   ]
  },
  {
   "cell_type": "code",
   "execution_count": 43,
   "metadata": {},
   "outputs": [],
   "source": [
    "def asnp(series):\n",
    "    return np.asarray(series.values, dtype = \"float\")\n",
    "def f(e,m):\n",
    "    n = m ** e\n",
    "    return 1 - 2*(m**2 - m) * np.exp(-1 * n/(8 * (m ** 2)))"
   ]
  },
  {
   "cell_type": "code",
   "execution_count": 14,
   "metadata": {},
   "outputs": [
    {
     "data": {
      "text/plain": [
       "(137, 4)"
      ]
     },
     "execution_count": 14,
     "metadata": {},
     "output_type": "execute_result"
    }
   ],
   "source": [
    "df = combine()\n",
    "df.shape"
   ]
  },
  {
   "cell_type": "code",
   "execution_count": 15,
   "metadata": {},
   "outputs": [
    {
     "data": {
      "text/plain": [
       "Index(['v_exp', 'candidates', 'success', 'trials'], dtype='object')"
      ]
     },
     "execution_count": 15,
     "metadata": {},
     "output_type": "execute_result"
    }
   ],
   "source": [
    "df.columns"
   ]
  },
  {
   "cell_type": "code",
   "execution_count": 58,
   "metadata": {},
   "outputs": [],
   "source": [
    "dfp= df.loc[]"
   ]
  },
  {
   "cell_type": "code",
   "execution_count": 59,
   "metadata": {},
   "outputs": [
    {
     "data": {
      "text/plain": [
       "array([  5,  10,  20,  30,  40, 100,  50,  60,  70,  85])"
      ]
     },
     "execution_count": 59,
     "metadata": {},
     "output_type": "execute_result"
    }
   ],
   "source": [
    "dfp.candidates.unique()"
   ]
  },
  {
   "cell_type": "code",
   "execution_count": 63,
   "metadata": {},
   "outputs": [
    {
     "data": {
      "application/vnd.jupyter.widget-view+json": {
       "model_id": "1d75ad1981764dc8b87473e1e75933c5",
       "version_major": 2,
       "version_minor": 0
      },
      "text/plain": [
       "Canvas(toolbar=Toolbar(toolitems=[('Home', 'Reset original view', 'home', 'home'), ('Back', 'Back to previous …"
      ]
     },
     "metadata": {},
     "output_type": "display_data"
    },
    {
     "name": "stderr",
     "output_type": "stream",
     "text": [
      "<ipython-input-63-0966e1c51ade>:14: SettingWithCopyWarning: \n",
      "A value is trying to be set on a copy of a slice from a DataFrame\n",
      "\n",
      "See the caveats in the documentation: https://pandas.pydata.org/pandas-docs/stable/user_guide/indexing.html#returning-a-view-versus-a-copy\n",
      "  p.sort_values(['v_exp', 'success'], inplace=True)\n",
      "<ipython-input-63-0966e1c51ade>:14: SettingWithCopyWarning: \n",
      "A value is trying to be set on a copy of a slice from a DataFrame\n",
      "\n",
      "See the caveats in the documentation: https://pandas.pydata.org/pandas-docs/stable/user_guide/indexing.html#returning-a-view-versus-a-copy\n",
      "  p.sort_values(['v_exp', 'success'], inplace=True)\n",
      "<ipython-input-63-0966e1c51ade>:14: SettingWithCopyWarning: \n",
      "A value is trying to be set on a copy of a slice from a DataFrame\n",
      "\n",
      "See the caveats in the documentation: https://pandas.pydata.org/pandas-docs/stable/user_guide/indexing.html#returning-a-view-versus-a-copy\n",
      "  p.sort_values(['v_exp', 'success'], inplace=True)\n",
      "<ipython-input-63-0966e1c51ade>:14: SettingWithCopyWarning: \n",
      "A value is trying to be set on a copy of a slice from a DataFrame\n",
      "\n",
      "See the caveats in the documentation: https://pandas.pydata.org/pandas-docs/stable/user_guide/indexing.html#returning-a-view-versus-a-copy\n",
      "  p.sort_values(['v_exp', 'success'], inplace=True)\n",
      "<ipython-input-63-0966e1c51ade>:14: SettingWithCopyWarning: \n",
      "A value is trying to be set on a copy of a slice from a DataFrame\n",
      "\n",
      "See the caveats in the documentation: https://pandas.pydata.org/pandas-docs/stable/user_guide/indexing.html#returning-a-view-versus-a-copy\n",
      "  p.sort_values(['v_exp', 'success'], inplace=True)\n",
      "<ipython-input-63-0966e1c51ade>:14: SettingWithCopyWarning: \n",
      "A value is trying to be set on a copy of a slice from a DataFrame\n",
      "\n",
      "See the caveats in the documentation: https://pandas.pydata.org/pandas-docs/stable/user_guide/indexing.html#returning-a-view-versus-a-copy\n",
      "  p.sort_values(['v_exp', 'success'], inplace=True)\n",
      "<ipython-input-63-0966e1c51ade>:14: SettingWithCopyWarning: \n",
      "A value is trying to be set on a copy of a slice from a DataFrame\n",
      "\n",
      "See the caveats in the documentation: https://pandas.pydata.org/pandas-docs/stable/user_guide/indexing.html#returning-a-view-versus-a-copy\n",
      "  p.sort_values(['v_exp', 'success'], inplace=True)\n",
      "<ipython-input-63-0966e1c51ade>:14: SettingWithCopyWarning: \n",
      "A value is trying to be set on a copy of a slice from a DataFrame\n",
      "\n",
      "See the caveats in the documentation: https://pandas.pydata.org/pandas-docs/stable/user_guide/indexing.html#returning-a-view-versus-a-copy\n",
      "  p.sort_values(['v_exp', 'success'], inplace=True)\n",
      "<ipython-input-63-0966e1c51ade>:14: SettingWithCopyWarning: \n",
      "A value is trying to be set on a copy of a slice from a DataFrame\n",
      "\n",
      "See the caveats in the documentation: https://pandas.pydata.org/pandas-docs/stable/user_guide/indexing.html#returning-a-view-versus-a-copy\n",
      "  p.sort_values(['v_exp', 'success'], inplace=True)\n",
      "<ipython-input-63-0966e1c51ade>:14: SettingWithCopyWarning: \n",
      "A value is trying to be set on a copy of a slice from a DataFrame\n",
      "\n",
      "See the caveats in the documentation: https://pandas.pydata.org/pandas-docs/stable/user_guide/indexing.html#returning-a-view-versus-a-copy\n",
      "  p.sort_values(['v_exp', 'success'], inplace=True)\n"
     ]
    }
   ],
   "source": [
    "plt.close('all')\n",
    "\n",
    "fig = plt.figure()\n",
    "fig.set_size_inches(6, 6)\n",
    "\n",
    "ax = fig.add_subplot(111, projection='3d')\n",
    "\n",
    "\n",
    "#ax.scatter(asnp(dfp['v_exp']), asnp(dfp['candidates']),\n",
    "              #  asnp(dfp['success']), cmap=cm.viridis)\n",
    "\n",
    "for c in dfp.candidates.unique():\n",
    "    p = dfp.loc[dfp['candidates'] == c]\n",
    "    p.sort_values(['v_exp', 'success'], inplace=True)\n",
    "    ax.plot(asnp(p['v_exp']), asnp(p['candidates']), asnp(p['success']))\n",
    "    error bars\n",
    "    #ax.plot([fx[i], fx[i]], [fy[i], fy[i]], [fz[i]+zerror[i], fz[i]-zerror[i]], marker=\"_\")\n",
    "    \n",
    "exponent = np.linspace(1.5,2.5,9)\n",
    "m = np.arange(5, 100)\n",
    "exponent, m = np.meshgrid(exponent, m)\n",
    "\n",
    "z = f(exponent,m)\n",
    "#z[z < 0.0] = np.nan\n",
    "\n",
    "#ax.plot_surface(exponent, m, z)\n",
    "\n",
    "ax.set_title('GreedyWinner Algorithm')\n",
    "\n",
    "ax.set_xlabel('$\\log_m(n)$')\n",
    "ax.set_ylabel('Candidates')\n",
    "ax.set_zlabel('Success Probability')\n",
    "#ax.set_zlim3d(0,1)\n",
    "\n",
    "plt.show()"
   ]
  },
  {
   "cell_type": "code",
   "execution_count": 4,
   "metadata": {},
   "outputs": [
    {
     "data": {
      "text/plain": [
       "(137, 4)"
      ]
     },
     "execution_count": 4,
     "metadata": {},
     "output_type": "execute_result"
    }
   ],
   "source": [
    "proportion_confint(100, 200, alpha=0.05, method='agresti_coull')"
   ]
  },
  {
   "cell_type": "code",
   "execution_count": 33,
   "metadata": {},
   "outputs": [
    {
     "data": {
      "text/plain": [
       "array([1.5  , 1.625, 1.75 , 1.875, 2.   , 2.125, 2.25 , 2.375, 2.5  ])"
      ]
     },
     "execution_count": 33,
     "metadata": {},
     "output_type": "execute_result"
    }
   ],
   "source": [
    "np.linspace(1.5,2.5,9)"
   ]
  },
  {
   "cell_type": "code",
   "execution_count": null,
   "metadata": {},
   "outputs": [],
   "source": []
  }
 ],
 "metadata": {
  "kernelspec": {
   "display_name": "Python 3",
   "language": "python",
   "name": "python3"
  },
  "language_info": {
   "codemirror_mode": {
    "name": "ipython",
    "version": 3
   },
   "file_extension": ".py",
   "mimetype": "text/x-python",
   "name": "python",
   "nbconvert_exporter": "python",
   "pygments_lexer": "ipython3",
   "version": "3.8.2"
  }
 },
 "nbformat": 4,
 "nbformat_minor": 4
}
