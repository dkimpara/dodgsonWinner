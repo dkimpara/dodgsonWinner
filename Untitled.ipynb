{
 "cells": [
  {
   "cell_type": "code",
   "execution_count": 1,
   "metadata": {},
   "outputs": [],
   "source": [
    "%matplotlib widget\n",
    "\n",
    "from mpl_toolkits.mplot3d import Axes3D  # noqa: F401 unused import\n",
    "\n",
    "import matplotlib.pyplot as plt\n",
    "import numpy as np\n",
    "from alg import *\n",
    "from experimentCode import uniform_random\n"
   ]
  },
  {
   "cell_type": "code",
   "execution_count": 4,
   "metadata": {},
   "outputs": [],
   "source": [
    "def f(n,m):\n",
    "    return 2*(m**2 - m) * np.exp(-1 * n/(8 * (m ** 2)))\n",
    "def lower(m):\n",
    "    #returns number of voters that makes probability less than 1\n",
    "    return -8 * m **2 * np.log(1 / (2 * (m-1) * m))\n",
    "def binary(pr, uncert):\n",
    "    samples = pr * (1-pr) *(1.96 ** 2) / (uncert ** 2)\n",
    "    return samples"
   ]
  },
  {
   "cell_type": "code",
   "execution_count": 50,
   "metadata": {},
   "outputs": [
    {
     "data": {
      "application/vnd.jupyter.widget-view+json": {
       "model_id": "d21c6e87de1d4765a872f3dd60f78267",
       "version_major": 2,
       "version_minor": 0
      },
      "text/plain": [
       "Canvas(toolbar=Toolbar(toolitems=[('Home', 'Reset original view', 'home', 'home'), ('Back', 'Back to previous …"
      ]
     },
     "metadata": {},
     "output_type": "display_data"
    },
    {
     "name": "stderr",
     "output_type": "stream",
     "text": [
      "<ipython-input-50-6a9cd44e412e>:16: UserWarning: Z contains NaN values. This may result in rendering artifacts.\n",
      "  ax.plot_surface(n, m, z)\n"
     ]
    }
   ],
   "source": [
    "plt.close('all')\n",
    "\n",
    "fig = plt.figure()\n",
    "fig.set_size_inches(9, 9)\n",
    "\n",
    "ax = fig.add_subplot(111, projection='3d')\n",
    "\n",
    "n = np.arange(int(lower(10)), int(lower(50)) + 200, 200)\n",
    "m = np.arange(10, 50)\n",
    "n, m = np.meshgrid(n, m)\n",
    "\n",
    "z = f(n,m)\n",
    "\n",
    "z[z > 1.0] = np.nan\n",
    "\n",
    "ax.plot_surface(n, m, z)\n",
    "\n",
    "ax.set_title('Surface plot')\n",
    "\n",
    "ax.set_xlabel('Voters')\n",
    "ax.set_ylabel('Candidates')\n",
    "ax.set_zlabel('z')\n",
    "ax.set_zlim3d(0,1)\n",
    "\n",
    "plt.show()"
   ]
  }
 ],
 "metadata": {
  "kernelspec": {
   "display_name": "Python 3",
   "language": "python",
   "name": "python3"
  },
  "language_info": {
   "codemirror_mode": {
    "name": "ipython",
    "version": 3
   },
   "file_extension": ".py",
   "mimetype": "text/x-python",
   "name": "python",
   "nbconvert_exporter": "python",
   "pygments_lexer": "ipython3",
   "version": "3.8.2"
  }
 },
 "nbformat": 4,
 "nbformat_minor": 4
}
