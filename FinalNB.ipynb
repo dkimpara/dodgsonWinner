{
 "cells": [
  {
   "cell_type": "code",
   "execution_count": null,
   "metadata": {},
   "outputs": [],
   "source": []
  },
  {
   "cell_type": "code",
   "execution_count": 1,
   "metadata": {
    "pycharm": {
     "name": "#%%\n"
    }
   },
   "outputs": [],
   "source": [
    "%matplotlib widget\n",
    "import pandas as pd\n",
    "import networkx as nx\n",
    "import numpy as np\n",
    "import matplotlib.pyplot as plt\n",
    "import analysis as analysis\n",
    "from analysis import read_pickle, asnp\n",
    "from mpl_toolkits.mplot3d import Axes3D\n",
    "from matplotlib import cm\n",
    "import statsmodels.api as sm\n",
    "import statsmodels.formula.api as smf\n",
    "from statsmodels.stats.anova import anova_lm"
   ]
  },
  {
   "cell_type": "code",
   "execution_count": 2,
   "metadata": {},
   "outputs": [
    {
     "name": "stdout",
     "output_type": "stream",
     "text": [
      "(21600, 18)\n"
     ]
    }
   ],
   "source": [
    "filename = 'base' #'mod'\n",
    "#df = analysis.read_pickle('df_sayama_change_all')\n",
    "#df = read_pickle('df_group_size10-40_changeall')\n",
    "df_full = analysis.read_pickle('df_' + filename)\n",
    "print(df_full.shape)\n",
    "df_full.columns\n",
    "df = analysis.data_cleanup(df_full)"
   ]
  },
  {
   "cell_type": "code",
   "execution_count": 3,
   "metadata": {},
   "outputs": [],
   "source": [
    "#load SPL on undirected conversion of graph\n",
    "filename = 'base' + 'mod'\n",
    "dfmod = analysis.read_pickle('df_' + filename)\n",
    "dfmod.columns\n",
    "#load SPL on scc analysis of graph\n",
    "filename = 'base' + 'modsc'\n",
    "dfsc = analysis.read_pickle('df_' + filename)\n"
   ]
  },
  {
   "cell_type": "code",
   "execution_count": 9,
   "metadata": {},
   "outputs": [],
   "source": [
    "df = df.loc[df['giantComponent'] >= 0.99]\n",
    "dfsc = dfsc.loc[df_full['giantComponent'] >= 0.99]"
   ]
  },
  {
   "cell_type": "code",
   "execution_count": 10,
   "metadata": {},
   "outputs": [],
   "source": [
    "#mplot3d doesnt handle sympy floats\n",
    "stdd = np.asarray(df['std_d'].values, dtype = \"float\")\n",
    "stdrs = np.asarray(df['std_rs'].values, dtype = \"float\")\n",
    "stdrw = np.asarray(df['std_rw'].values, dtype = \"float\")\n",
    "spl = np.asarray(df['SPL'].values, dtype = \"float\")\n",
    "cd = np.asarray(df['CD'].values, dtype = \"float\")\n",
    "cc = np.asarray(df['giantComponent'].values, dtype = \"float\")\n",
    "sc = np.asarray(dfsc['sc'].values, dtype = \"float\")\n"
   ]
  },
  {
   "cell_type": "code",
   "execution_count": 11,
   "metadata": {},
   "outputs": [
    {
     "data": {
      "application/vnd.jupyter.widget-view+json": {
       "model_id": "fe19f6182d0347449483153edcc8131c",
       "version_major": 2,
       "version_minor": 0
      },
      "text/plain": [
       "Canvas(toolbar=Toolbar(toolitems=[('Home', 'Reset original view', 'home', 'home'), ('Back', 'Back to previous …"
      ]
     },
     "metadata": {},
     "output_type": "display_data"
    }
   ],
   "source": [
    "analysis.plotfig(stdd, sc, spl, '$d$', 'stdd-sc-spl', fsize=(7,7) )\n",
    "#analysis.plotfig(stdrs, cd, spl, '$r_s$', 'base-rs')\n",
    "#analysis.plotfig(stdrw, cd, spl, '$r_w$', 'base-rw')"
   ]
  },
  {
   "cell_type": "markdown",
   "metadata": {},
   "source": [
    "## discrepancy in SPL"
   ]
  },
  {
   "cell_type": "code",
   "execution_count": 119,
   "metadata": {},
   "outputs": [
    {
     "data": {
      "application/vnd.jupyter.widget-view+json": {
       "model_id": "8248b7aef7ac4244bfe51b5584383b52",
       "version_major": 2,
       "version_minor": 0
      },
      "text/plain": [
       "Canvas(toolbar=Toolbar(toolitems=[('Home', 'Reset original view', 'home', 'home'), ('Back', 'Back to previous …"
      ]
     },
     "metadata": {},
     "output_type": "display_data"
    }
   ],
   "source": [
    "fig = plt.figure()\n",
    "fig.set_size_inches(11,13)\n",
    "ax = fig.gca(projection='3d')\n",
    "alp = 0.2\n",
    "#ax.scatter(asnp(dfsc['std_d']), asnp(dfsc['CD']), asnp(dfsc['SPL']),\n",
    "          #label='Largest directed strongly connected component', c='g', marker='.', alpha=alp)\n",
    "ax.scatter(stdd, cd, spl, label = 'Sayama and Yamanoi', c='r', marker='.',alpha=alp)\n",
    "ax.scatter(asnp(dfmod['std_d']), asnp(dfmod['CD']), asnp(dfmod['SPL']),\n",
    "          #label='Largest undirected weakly connected component', c='b', marker='x', alpha=alp)\n",
    "\n",
    "ax.legend()\n",
    "ax.set_xlabel(\"s.d. of $d$\")\n",
    "ax.set_ylabel(\"<CD>\")\n",
    "ax.set_zlabel(\"<SPL>\")\n",
    "ax.view_init(elev=3, azim=305)\n",
    "plt.draw()"
   ]
  },
  {
   "cell_type": "markdown",
   "metadata": {},
   "source": [
    "## analysis of strongly/weakly connected components"
   ]
  },
  {
   "cell_type": "code",
   "execution_count": 107,
   "metadata": {},
   "outputs": [],
   "source": [
    "def ddgroupby(df, labels):\n",
    "    sdf = pd.DataFrame(df.groupby(labels)[['sc', 'giantComponent']].mean())\n",
    "    sdf.reset_index(inplace=True)\n",
    "    return sdf\n",
    "def plt_surf(label, df, sdf):\n",
    "    plt.close('all')\n",
    "    fig = plt.figure()\n",
    "    fig.set_size_inches(9, 9)\n",
    "    ax = fig.gca(projection='3d')\n",
    "\n",
    "    #ax.scatter(asnp(df[label1[0]]), asnp(df[label1[1]]), asnp(df['sc']), marker='.')\n",
    "    ax.plot_trisurf(asnp(sdf[label[0]]), asnp(sdf[label[1]]), asnp(sdf['sc']), label='Strongly Connected',\n",
    "                    cmap=cm.coolwarm, linewidth=0, edgecolor='none')\n",
    "    ax.plot_trisurf(asnp(sdf[label[0]]), asnp(sdf[label[1]]), asnp(sdf['giantComponent']),\n",
    "                    cmap=cm.viridis, linewidth=0, edgecolor='none')\n",
    "    ax.set_xlabel('s.d. of $r_w$')\n",
    "    ax.set_ylabel('s.d. of $r_s$')\n",
    "    ax.set_zlabel('Component Size')\n",
    "    plt.draw()"
   ]
  },
  {
   "cell_type": "code",
   "execution_count": 45,
   "metadata": {},
   "outputs": [],
   "source": [
    "def cum_components(dfsc):\n",
    "    x = []\n",
    "    sc_ = []\n",
    "    gc_ = []\n",
    "    for i in np.linspace(0, 1.0, 21):\n",
    "        cum = 1 - i\n",
    "        con = dfsc['sc'] >= cum\n",
    "        con2 = dfsc['giantComponent'] >= cum\n",
    "        x.append(cum)\n",
    "        sc_.append(dfsc.loc[con].shape[0])\n",
    "        gc_.append(dfsc.loc[con2].shape[0])\n",
    "    for i in np.linspace(0,0.15,15):\n",
    "        cum = 1 - i\n",
    "        con = dfsc['sc'] >= cum\n",
    "        con2 = dfsc['giantComponent'] >= cum\n",
    "        x.append(cum)\n",
    "        sc_.append(dfsc.loc[con].shape[0])\n",
    "        gc_.append(dfsc.loc[con2].shape[0])\n",
    "    return x, sc_, gc_"
   ]
  },
  {
   "cell_type": "code",
   "execution_count": 12,
   "metadata": {},
   "outputs": [],
   "source": [
    "dfca = read_pickle('df_sayama_change_allmodsc')\n",
    "#x, sc_, gc_ = cum_components(dfca)"
   ]
  },
  {
   "cell_type": "code",
   "execution_count": 48,
   "metadata": {},
   "outputs": [
    {
     "data": {
      "application/vnd.jupyter.widget-view+json": {
       "model_id": "aecbab36e06746c288880d20b8511133",
       "version_major": 2,
       "version_minor": 0
      },
      "text/plain": [
       "Canvas(toolbar=Toolbar(toolitems=[('Home', 'Reset original view', 'home', 'home'), ('Back', 'Back to previous …"
      ]
     },
     "metadata": {},
     "output_type": "display_data"
    }
   ],
   "source": [
    "plt.close('all')\n",
    "fig = plt.figure()\n",
    "ax = fig.add_subplot(111)\n",
    "ax.scatter(x,sc_, label = 'Strongly Connected',color='g')\n",
    "ax.scatter(x,gc_, label='Weakly Connected', color='b', marker ='x')\n",
    "ax.legend()\n",
    "ax.set_ylabel('Number of Experiments')\n",
    "ax.set_xlabel('Relative size of Largest Component')\n",
    "plt.draw()"
   ]
  },
  {
   "cell_type": "code",
   "execution_count": null,
   "metadata": {},
   "outputs": [],
   "source": []
  },
  {
   "cell_type": "markdown",
   "metadata": {},
   "source": [
    "Start with 0.8 as minimum gc size. Filter df:"
   ]
  },
  {
   "cell_type": "code",
   "execution_count": 108,
   "metadata": {},
   "outputs": [
    {
     "data": {
      "application/vnd.jupyter.widget-view+json": {
       "model_id": "3834407c23e640cfa725237477082089",
       "version_major": 2,
       "version_minor": 0
      },
      "text/plain": [
       "Canvas(toolbar=Toolbar(toolitems=[('Home', 'Reset original view', 'home', 'home'), ('Back', 'Back to previous …"
      ]
     },
     "metadata": {},
     "output_type": "display_data"
    }
   ],
   "source": [
    "#df's are df, dfmod (undir SPL), dfsc, dfca(changeall)\n",
    "label1 = ['std_rw', 'std_rs']\n",
    "label2 = ['std_d', 'std_rw']\n",
    "label3 = ['std_d', 'std_rs']\n",
    "labels = label1\n",
    "\n",
    "sdf = ddgroupby(dfca, labels)\n",
    "plt_surf(labels, df, sdf)"
   ]
  },
  {
   "cell_type": "markdown",
   "metadata": {},
   "source": [
    "## linreg "
   ]
  },
  {
   "cell_type": "code",
   "execution_count": 112,
   "metadata": {},
   "outputs": [
    {
     "name": "stdout",
     "output_type": "stream",
     "text": [
      "                            OLS Regression Results                            \n",
      "==============================================================================\n",
      "Dep. Variable:                     sc   R-squared:                       0.700\n",
      "Model:                            OLS   Adj. R-squared:                  0.700\n",
      "Method:                 Least Squares   F-statistic:                     8388.\n",
      "Date:                Mon, 20 Jul 2020   Prob (F-statistic):               0.00\n",
      "Time:                        21:53:39   Log-Likelihood:                 37033.\n",
      "No. Observations:               21600   AIC:                        -7.405e+04\n",
      "Df Residuals:                   21593   BIC:                        -7.400e+04\n",
      "Df Model:                           6                                         \n",
      "Covariance Type:            nonrobust                                         \n",
      "=================================================================================\n",
      "                    coef    std err          t      P>|t|      [0.025      0.975]\n",
      "---------------------------------------------------------------------------------\n",
      "Intercept         1.0365      0.001    759.174      0.000       1.034       1.039\n",
      "std_d            -0.3997      0.004   -100.137      0.000      -0.408      -0.392\n",
      "std_rs           -0.0061      0.004     -1.530      0.126      -0.014       0.002\n",
      "std_rw           -0.0172      0.004     -4.298      0.000      -0.025      -0.009\n",
      "std_d:std_rs     -0.1080      0.010    -10.623      0.000      -0.128      -0.088\n",
      "std_d:std_rw      0.1630      0.010     16.038      0.000       0.143       0.183\n",
      "std_rs:std_rw     0.0068      0.010      0.670      0.503      -0.013       0.027\n",
      "==============================================================================\n",
      "Omnibus:                     5927.231   Durbin-Watson:                   1.438\n",
      "Prob(Omnibus):                  0.000   Jarque-Bera (JB):            38082.159\n",
      "Skew:                          -1.163   Prob(JB):                         0.00\n",
      "Kurtosis:                       9.075   Cond. No.                         42.4\n",
      "==============================================================================\n",
      "\n",
      "Warnings:\n",
      "[1] Standard Errors assume that the covariance matrix of the errors is correctly specified.\n"
     ]
    }
   ],
   "source": [
    "res = smf.ols(formula='sc ~ (std_d + std_rs + std_rw)**2', data=dfsc).fit()\n",
    "print(str(res.summary()))"
   ]
  },
  {
   "cell_type": "code",
   "execution_count": 110,
   "metadata": {},
   "outputs": [
    {
     "name": "stdout",
     "output_type": "stream",
     "text": [
      "                    df     sum_sq    mean_sq             F        PR(>F)\n",
      "std_d              1.0  93.831200  93.831200  49415.864717  0.000000e+00\n",
      "std_rs             1.0   0.621218   0.621218    327.162022  1.370843e-72\n",
      "std_rw             1.0   0.403358   0.403358    212.426995  6.853623e-48\n",
      "std_d:std_rs       1.0   0.214294   0.214294    112.856957  2.693272e-26\n",
      "std_d:std_rw       1.0   0.488377   0.488377    257.201753  1.503337e-57\n",
      "std_rs:std_rw      1.0   0.000852   0.000852      0.448904  5.028630e-01\n",
      "Residual       21593.0  41.000944   0.001899           NaN           NaN\n"
     ]
    }
   ],
   "source": [
    "print(str(anova_lm(res)))"
   ]
  },
  {
   "cell_type": "markdown",
   "metadata": {},
   "source": [
    "## how much does sc explain SPL?"
   ]
  },
  {
   "cell_type": "code",
   "execution_count": 113,
   "metadata": {},
   "outputs": [
    {
     "data": {
      "text/plain": [
       "Index(['degrees', 'clusterCoeff', 'reciprocity', 'center_1', 'center_2',\n",
       "       'mean_centers', 'overall_mean_culture', 'giantComponent', 'diam', 'SPL',\n",
       "       'CD', 'c1_init', 'c2_init', 'c_avg_init', 'std_d', 'std_rs', 'std_rw',\n",
       "       'tags', 'comps', 'sc'],\n",
       "      dtype='object')"
      ]
     },
     "execution_count": 113,
     "metadata": {},
     "output_type": "execute_result"
    }
   ],
   "source": [
    "df['sc'] = dfsc['sc']\n",
    "df.columns"
   ]
  },
  {
   "cell_type": "code",
   "execution_count": 122,
   "metadata": {},
   "outputs": [
    {
     "name": "stdout",
     "output_type": "stream",
     "text": [
      "                            OLS Regression Results                            \n",
      "==============================================================================\n",
      "Dep. Variable:                    SPL   R-squared:                       0.388\n",
      "Model:                            OLS   Adj. R-squared:                  0.388\n",
      "Method:                 Least Squares   F-statistic:                     4561.\n",
      "Date:                Mon, 20 Jul 2020   Prob (F-statistic):               0.00\n",
      "Time:                        22:09:41   Log-Likelihood:                 16000.\n",
      "No. Observations:               21600   AIC:                        -3.199e+04\n",
      "Df Residuals:                   21596   BIC:                        -3.196e+04\n",
      "Df Model:                           3                                         \n",
      "Covariance Type:            nonrobust                                         \n",
      "==============================================================================\n",
      "                 coef    std err          t      P>|t|      [0.025      0.975]\n",
      "------------------------------------------------------------------------------\n",
      "Intercept      2.1451      0.117     18.387      0.000       1.916       2.374\n",
      "sc             0.0675      0.118      0.574      0.566      -0.163       0.298\n",
      "CD             0.3514      0.040      8.776      0.000       0.273       0.430\n",
      "sc:CD         -0.2545      0.040     -6.290      0.000      -0.334      -0.175\n",
      "==============================================================================\n",
      "Omnibus:                     3506.301   Durbin-Watson:                   1.899\n",
      "Prob(Omnibus):                  0.000   Jarque-Bera (JB):            19684.744\n",
      "Skew:                           0.666   Prob(JB):                         0.00\n",
      "Kurtosis:                       7.483   Cond. No.                         881.\n",
      "==============================================================================\n",
      "\n",
      "Warnings:\n",
      "[1] Standard Errors assume that the covariance matrix of the errors is correctly specified.\n"
     ]
    }
   ],
   "source": [
    "res = smf.ols(formula='SPL ~ (sc + CD) ** 2', data=dfsc).fit()\n",
    "print(str(res.summary()))"
   ]
  },
  {
   "cell_type": "code",
   "execution_count": 71,
   "metadata": {},
   "outputs": [
    {
     "data": {
      "application/vnd.jupyter.widget-view+json": {
       "model_id": "bf3cf7b09a1145e8a5c6e691ab748090",
       "version_major": 2,
       "version_minor": 0
      },
      "text/plain": [
       "Canvas(toolbar=Toolbar(toolitems=[('Home', 'Reset original view', 'home', 'home'), ('Back', 'Back to previous …"
      ]
     },
     "metadata": {},
     "output_type": "display_data"
    }
   ],
   "source": [
    "plt.close('all')\n",
    "fig = plt.figure()\n",
    "fig.set_size_inches(9, 9)\n",
    "ax = fig.gca(projection='3d')\n",
    "\n",
    "ax.scatter(asnp(dfsc['SPL']), asnp(dfsc['std_d']), asnp(dfsc['sc']), marker='.')\n",
    "ax.scatter(asnp(dfsc['SPL']), asnp(dfsc['std_d']), asnp(dfsc['giantComponent']), marker='.', color='r')\n",
    "\n",
    "ax.set_ylabel('s.d. of d')\n",
    "ax.set_xlabel('<SPL>')\n",
    "ax.set_zlabel('Size of largest Strongly Connected Component')\n",
    "\n",
    "plt.draw()"
   ]
  },
  {
   "cell_type": "code",
   "execution_count": null,
   "metadata": {},
   "outputs": [],
   "source": [
    "#"
   ]
  },
  {
   "cell_type": "markdown",
   "metadata": {},
   "source": [
    "## linear relation between splsc and splgc?"
   ]
  },
  {
   "cell_type": "code",
   "execution_count": 94,
   "metadata": {},
   "outputs": [
    {
     "data": {
      "text/html": [
       "<div>\n",
       "<style scoped>\n",
       "    .dataframe tbody tr th:only-of-type {\n",
       "        vertical-align: middle;\n",
       "    }\n",
       "\n",
       "    .dataframe tbody tr th {\n",
       "        vertical-align: top;\n",
       "    }\n",
       "\n",
       "    .dataframe thead th {\n",
       "        text-align: right;\n",
       "    }\n",
       "</style>\n",
       "<table border=\"1\" class=\"dataframe\">\n",
       "  <thead>\n",
       "    <tr style=\"text-align: right;\">\n",
       "      <th></th>\n",
       "      <th>SPLweak</th>\n",
       "      <th>SPLstrong</th>\n",
       "    </tr>\n",
       "  </thead>\n",
       "  <tbody>\n",
       "    <tr>\n",
       "      <th>0</th>\n",
       "      <td>1.974694</td>\n",
       "      <td>2.463265</td>\n",
       "    </tr>\n",
       "    <tr>\n",
       "      <th>1</th>\n",
       "      <td>1.951837</td>\n",
       "      <td>2.430204</td>\n",
       "    </tr>\n",
       "    <tr>\n",
       "      <th>2</th>\n",
       "      <td>2.040000</td>\n",
       "      <td>2.560816</td>\n",
       "    </tr>\n",
       "    <tr>\n",
       "      <th>3</th>\n",
       "      <td>1.937143</td>\n",
       "      <td>2.337143</td>\n",
       "    </tr>\n",
       "    <tr>\n",
       "      <th>4</th>\n",
       "      <td>1.932245</td>\n",
       "      <td>2.351429</td>\n",
       "    </tr>\n",
       "  </tbody>\n",
       "</table>\n",
       "</div>"
      ],
      "text/plain": [
       "    SPLweak  SPLstrong\n",
       "0  1.974694   2.463265\n",
       "1  1.951837   2.430204\n",
       "2  2.040000   2.560816\n",
       "3  1.937143   2.337143\n",
       "4  1.932245   2.351429"
      ]
     },
     "execution_count": 94,
     "metadata": {},
     "output_type": "execute_result"
    }
   ],
   "source": [
    "dtemp = dfmod['SPL']\n",
    "dtemp.name = \"SPLweak\"\n",
    "dtemp2 = dfsc['SPL']\n",
    "dtemp2.name = \"SPLstrong\"\n",
    "dfspl = pd.concat([dtemp, dtemp2], axis=1)\n",
    "dfspl.head()"
   ]
  },
  {
   "cell_type": "code",
   "execution_count": 95,
   "metadata": {},
   "outputs": [
    {
     "name": "stdout",
     "output_type": "stream",
     "text": [
      "                            OLS Regression Results                            \n",
      "==============================================================================\n",
      "Dep. Variable:              SPLstrong   R-squared:                       0.798\n",
      "Model:                            OLS   Adj. R-squared:                  0.798\n",
      "Method:                 Least Squares   F-statistic:                 8.514e+04\n",
      "Date:                Mon, 20 Jul 2020   Prob (F-statistic):               0.00\n",
      "Time:                        21:32:56   Log-Likelihood:                 27956.\n",
      "No. Observations:               21600   AIC:                        -5.591e+04\n",
      "Df Residuals:                   21598   BIC:                        -5.589e+04\n",
      "Df Model:                           1                                         \n",
      "Covariance Type:            nonrobust                                         \n",
      "==============================================================================\n",
      "                 coef    std err          t      P>|t|      [0.025      0.975]\n",
      "------------------------------------------------------------------------------\n",
      "Intercept     -0.2541      0.009    -26.756      0.000      -0.273      -0.235\n",
      "SPLweak        1.3652      0.005    291.795      0.000       1.356       1.374\n",
      "==============================================================================\n",
      "Omnibus:                     5398.807   Durbin-Watson:                   1.887\n",
      "Prob(Omnibus):                  0.000   Jarque-Bera (JB):           255132.610\n",
      "Skew:                          -0.393   Prob(JB):                         0.00\n",
      "Kurtosis:                      19.819   Cond. No.                         53.1\n",
      "==============================================================================\n",
      "\n",
      "Warnings:\n",
      "[1] Standard Errors assume that the covariance matrix of the errors is correctly specified.\n"
     ]
    }
   ],
   "source": [
    "res = smf.ols(formula='SPLstrong ~ SPLweak', data=dfspl).fit()\n",
    "print(str(res.summary()))"
   ]
  },
  {
   "cell_type": "markdown",
   "metadata": {},
   "source": [
    "## analysis with 0.8 of graph as scc"
   ]
  },
  {
   "cell_type": "code",
   "execution_count": 128,
   "metadata": {},
   "outputs": [
    {
     "data": {
      "text/plain": [
       "(20259, 20)"
      ]
     },
     "execution_count": 128,
     "metadata": {},
     "output_type": "execute_result"
    }
   ],
   "source": [
    "dfred = dfsc.loc[dfsc['sc'] >= 0.8]\n",
    "dfred.shape"
   ]
  },
  {
   "cell_type": "code",
   "execution_count": 134,
   "metadata": {},
   "outputs": [
    {
     "data": {
      "application/vnd.jupyter.widget-view+json": {
       "model_id": "168c5fb80db341dabb8d14efa2faff28",
       "version_major": 2,
       "version_minor": 0
      },
      "text/plain": [
       "Canvas(toolbar=Toolbar(toolitems=[('Home', 'Reset original view', 'home', 'home'), ('Back', 'Back to previous …"
      ]
     },
     "metadata": {},
     "output_type": "display_data"
    }
   ],
   "source": [
    "analysis.plotfig(asnp(dfred['std_rw']), asnp(dfred['CD']), asnp(dfred['SPL']), '$r_w$')"
   ]
  },
  {
   "cell_type": "code",
   "execution_count": 130,
   "metadata": {},
   "outputs": [],
   "source": [
    "import linReg\n",
    "linReg.fit_model(dfred, 'reduced-base-linreg')"
   ]
  },
  {
   "cell_type": "code",
   "execution_count": 131,
   "metadata": {},
   "outputs": [],
   "source": [
    "linReg.fit_model(df, 'sayama-base')"
   ]
  },
  {
   "cell_type": "markdown",
   "metadata": {},
   "source": [
    "## analyze experiment where we change all parameters. \n",
    "- 0.8 cutoff for scc"
   ]
  },
  {
   "cell_type": "code",
   "execution_count": 6,
   "metadata": {},
   "outputs": [],
   "source": [
    "import linReg"
   ]
  },
  {
   "cell_type": "code",
   "execution_count": 15,
   "metadata": {},
   "outputs": [
    {
     "data": {
      "application/vnd.jupyter.widget-view+json": {
       "model_id": "5534c0bd1abf452083196cbe3e87f39f",
       "version_major": 2,
       "version_minor": 0
      },
      "text/plain": [
       "Canvas(toolbar=Toolbar(toolitems=[('Home', 'Reset original view', 'home', 'home'), ('Back', 'Back to previous …"
      ]
     },
     "metadata": {},
     "output_type": "display_data"
    }
   ],
   "source": [
    "dfcaR = dfca.loc[dfca['sc'] >= 0.8]\n",
    "dfcaR.shape\n",
    "analysis.plotfig(asnp(dfcaR['std_rw']), asnp(dfcaR['CD']), asnp(dfcaR['SPL']), '$r_s$', fsize=(7,7))"
   ]
  },
  {
   "cell_type": "code",
   "execution_count": 136,
   "metadata": {},
   "outputs": [
    {
     "data": {
      "text/plain": [
       "(15687, 20)"
      ]
     },
     "execution_count": 136,
     "metadata": {},
     "output_type": "execute_result"
    }
   ],
   "source": [
    "dfcaR.shape"
   ]
  },
  {
   "cell_type": "code",
   "execution_count": 7,
   "metadata": {},
   "outputs": [],
   "source": [
    "linReg.fit_model(dfcaR, 'linreg changeall reduced')\n"
   ]
  },
  {
   "cell_type": "code",
   "execution_count": 137,
   "metadata": {},
   "outputs": [
    {
     "name": "stdout",
     "output_type": "stream",
     "text": [
      "                            OLS Regression Results                            \n",
      "==============================================================================\n",
      "Dep. Variable:                     sc   R-squared:                       0.622\n",
      "Model:                            OLS   Adj. R-squared:                  0.622\n",
      "Method:                 Least Squares   F-statistic:                     4305.\n",
      "Date:                Mon, 20 Jul 2020   Prob (F-statistic):               0.00\n",
      "Time:                        22:29:17   Log-Likelihood:                 29496.\n",
      "No. Observations:               15687   AIC:                        -5.898e+04\n",
      "Df Residuals:                   15680   BIC:                        -5.892e+04\n",
      "Df Model:                           6                                         \n",
      "Covariance Type:            nonrobust                                         \n",
      "=================================================================================\n",
      "                    coef    std err          t      P>|t|      [0.025      0.975]\n",
      "---------------------------------------------------------------------------------\n",
      "Intercept         1.0237      0.001    805.053      0.000       1.021       1.026\n",
      "std_d            -0.3050      0.005    -63.511      0.000      -0.314      -0.296\n",
      "std_rs           -0.0087      0.004     -2.299      0.022      -0.016      -0.001\n",
      "std_rw           -0.0046      0.004     -1.207      0.227      -0.012       0.003\n",
      "std_d:std_rs     -0.1346      0.013    -10.762      0.000      -0.159      -0.110\n",
      "std_d:std_rw      0.0034      0.012      0.277      0.782      -0.021       0.028\n",
      "std_rs:std_rw    -0.0314      0.010     -3.086      0.002      -0.051      -0.011\n",
      "==============================================================================\n",
      "Omnibus:                      829.822   Durbin-Watson:                   1.467\n",
      "Prob(Omnibus):                  0.000   Jarque-Bera (JB):             1020.324\n",
      "Skew:                          -0.544   Prob(JB):                    2.75e-222\n",
      "Kurtosis:                       3.613   Cond. No.                         49.4\n",
      "==============================================================================\n",
      "\n",
      "Warnings:\n",
      "[1] Standard Errors assume that the covariance matrix of the errors is correctly specified.\n"
     ]
    }
   ],
   "source": [
    "res = smf.ols(formula='sc ~ (std_d + std_rs + std_rw)**2', data=dfcaR).fit()\n",
    "print(str(res.summary()))"
   ]
  },
  {
   "cell_type": "markdown",
   "metadata": {},
   "source": [
    "## how much does spl weak correlate with spl strong?"
   ]
  },
  {
   "cell_type": "code",
   "execution_count": 138,
   "metadata": {},
   "outputs": [
    {
     "data": {
      "text/plain": [
       "Index(['degrees', 'clusterCoeff', 'reciprocity', 'center_1', 'center_2',\n",
       "       'mean_centers', 'overall_mean_culture', 'giantComponent', 'diam', 'SPL',\n",
       "       'CD', 'c1_init', 'c2_init', 'c_avg_init', 'std_d', 'std_rs', 'std_rw',\n",
       "       'tags', 'comps'],\n",
       "      dtype='object')"
      ]
     },
     "execution_count": 138,
     "metadata": {},
     "output_type": "execute_result"
    }
   ],
   "source": [
    "#load SPL on undirected conversion of graph\n",
    "filename = 'sayama_change_all' + 'mod'\n",
    "camod = analysis.read_pickle('df_' + filename)\n",
    "camod.columns"
   ]
  },
  {
   "cell_type": "code",
   "execution_count": 140,
   "metadata": {},
   "outputs": [],
   "source": [
    "camodR = camod.loc[dfca['sc'] >= 0.8]"
   ]
  },
  {
   "cell_type": "code",
   "execution_count": 141,
   "metadata": {},
   "outputs": [
    {
     "data": {
      "text/html": [
       "<div>\n",
       "<style scoped>\n",
       "    .dataframe tbody tr th:only-of-type {\n",
       "        vertical-align: middle;\n",
       "    }\n",
       "\n",
       "    .dataframe tbody tr th {\n",
       "        vertical-align: top;\n",
       "    }\n",
       "\n",
       "    .dataframe thead th {\n",
       "        text-align: right;\n",
       "    }\n",
       "</style>\n",
       "<table border=\"1\" class=\"dataframe\">\n",
       "  <thead>\n",
       "    <tr style=\"text-align: right;\">\n",
       "      <th></th>\n",
       "      <th>SPLweak</th>\n",
       "      <th>SPLstrong</th>\n",
       "    </tr>\n",
       "  </thead>\n",
       "  <tbody>\n",
       "    <tr>\n",
       "      <th>0</th>\n",
       "      <td>1.951020</td>\n",
       "      <td>2.432653</td>\n",
       "    </tr>\n",
       "    <tr>\n",
       "      <th>1</th>\n",
       "      <td>1.906122</td>\n",
       "      <td>2.347755</td>\n",
       "    </tr>\n",
       "    <tr>\n",
       "      <th>2</th>\n",
       "      <td>1.906939</td>\n",
       "      <td>2.315918</td>\n",
       "    </tr>\n",
       "    <tr>\n",
       "      <th>3</th>\n",
       "      <td>1.931429</td>\n",
       "      <td>2.431837</td>\n",
       "    </tr>\n",
       "    <tr>\n",
       "      <th>4</th>\n",
       "      <td>1.989388</td>\n",
       "      <td>2.409796</td>\n",
       "    </tr>\n",
       "  </tbody>\n",
       "</table>\n",
       "</div>"
      ],
      "text/plain": [
       "    SPLweak  SPLstrong\n",
       "0  1.951020   2.432653\n",
       "1  1.906122   2.347755\n",
       "2  1.906939   2.315918\n",
       "3  1.931429   2.431837\n",
       "4  1.989388   2.409796"
      ]
     },
     "execution_count": 141,
     "metadata": {},
     "output_type": "execute_result"
    }
   ],
   "source": [
    "dtemp = camodR['SPL']\n",
    "dtemp.name = \"SPLweak\"\n",
    "dtemp2 = dfcaR['SPL']\n",
    "dtemp2.name = \"SPLstrong\"\n",
    "dfspl = pd.concat([dtemp, dtemp2], axis=1)\n",
    "dfspl.head()"
   ]
  },
  {
   "cell_type": "code",
   "execution_count": 142,
   "metadata": {},
   "outputs": [
    {
     "name": "stdout",
     "output_type": "stream",
     "text": [
      "                            OLS Regression Results                            \n",
      "==============================================================================\n",
      "Dep. Variable:              SPLstrong   R-squared:                       0.848\n",
      "Model:                            OLS   Adj. R-squared:                  0.848\n",
      "Method:                 Least Squares   F-statistic:                 8.733e+04\n",
      "Date:                Mon, 20 Jul 2020   Prob (F-statistic):               0.00\n",
      "Time:                        22:34:29   Log-Likelihood:                 13139.\n",
      "No. Observations:               15687   AIC:                        -2.627e+04\n",
      "Df Residuals:                   15685   BIC:                        -2.626e+04\n",
      "Df Model:                           1                                         \n",
      "Covariance Type:            nonrobust                                         \n",
      "==============================================================================\n",
      "                 coef    std err          t      P>|t|      [0.025      0.975]\n",
      "------------------------------------------------------------------------------\n",
      "Intercept     -0.6226      0.011    -56.629      0.000      -0.644      -0.601\n",
      "SPLweak        1.5513      0.005    295.524      0.000       1.541       1.562\n",
      "==============================================================================\n",
      "Omnibus:                     7291.102   Durbin-Watson:                   1.960\n",
      "Prob(Omnibus):                  0.000   Jarque-Bera (JB):           163281.140\n",
      "Skew:                           1.720   Prob(JB):                         0.00\n",
      "Kurtosis:                      18.426   Cond. No.                         33.8\n",
      "==============================================================================\n",
      "\n",
      "Warnings:\n",
      "[1] Standard Errors assume that the covariance matrix of the errors is correctly specified.\n"
     ]
    }
   ],
   "source": [
    "res = smf.ols(formula='SPLstrong ~ SPLweak', data=dfspl).fit()\n",
    "print(str(res.summary()))"
   ]
  },
  {
   "cell_type": "code",
   "execution_count": null,
   "metadata": {},
   "outputs": [],
   "source": []
  }
 ],
 "metadata": {
  "kernelspec": {
   "display_name": "Python 3",
   "language": "python",
   "name": "python3"
  },
  "language_info": {
   "codemirror_mode": {
    "name": "ipython",
    "version": 3
   },
   "file_extension": ".py",
   "mimetype": "text/x-python",
   "name": "python",
   "nbconvert_exporter": "python",
   "pygments_lexer": "ipython3",
   "version": "3.8.2"
  }
 },
 "nbformat": 4,
 "nbformat_minor": 4
}
